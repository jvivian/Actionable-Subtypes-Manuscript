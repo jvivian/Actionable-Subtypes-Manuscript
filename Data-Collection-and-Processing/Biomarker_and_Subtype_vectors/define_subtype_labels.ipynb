{
 "cells": [
  {
   "cell_type": "markdown",
   "metadata": {
    "collapsed": true
   },
   "source": [
    "## Setup notebook"
   ]
  },
  {
   "cell_type": "code",
   "execution_count": 1,
   "metadata": {
    "ExecuteTime": {
     "end_time": "2018-06-05T02:23:22.102092Z",
     "start_time": "2018-06-05T02:23:20.216771Z"
    }
   },
   "outputs": [
    {
     "data": {
      "application/javascript": [
       "IPython.notebook.set_autosave_interval(10000)"
      ]
     },
     "metadata": {},
     "output_type": "display_data"
    },
    {
     "name": "stdout",
     "output_type": "stream",
     "text": [
      "Autosaving every 10 seconds\n"
     ]
    }
   ],
   "source": [
    "import pandas as pd\n",
    "import numpy as np\n",
    "import math\n",
    "#from scipy import stats\n",
    "\n",
    "# plotting\n",
    "#import matplotlib as mpl\n",
    "\n",
    "#import pickle\n",
    "\n",
    "import re\n",
    "#from collections import Counter\n",
    "from collections import defaultdict\n",
    "\n",
    "import yaml\n",
    "import builtins\n",
    "\n",
    "# jupyter notebook amenities\n",
    "#%matplotlib inline\n",
    "%autosave 10"
   ]
  },
  {
   "cell_type": "markdown",
   "metadata": {},
   "source": [
    "## Read in data"
   ]
  },
  {
   "cell_type": "markdown",
   "metadata": {},
   "source": [
    "### Drug information and Biomarker labels"
   ]
  },
  {
   "cell_type": "code",
   "execution_count": 4,
   "metadata": {
    "ExecuteTime": {
     "end_time": "2018-06-05T02:58:48.817005Z",
     "start_time": "2018-06-05T02:58:47.259677Z"
    },
    "collapsed": true
   },
   "outputs": [],
   "source": [
    "oncokb_events_file = './allActionableVariants_TCGAsamples.tsv'\n",
    "\n",
    "oncokb_events = pd.read_csv(oncokb_events_file, sep='\\t', header=0, index_col=None)\n",
    "\n",
    "\n",
    "#oncokb = defaultdict(list)\n",
    "#for i, row in oncokb_table.iterrows():\n",
    "#    # Save desired values for a given alteration\n",
    "#    v = {'Gene': row.Gene,\n",
    "#         'Alteration': row.Alteration,\n",
    "#         'Subtype': row['Cancer Type'],\n",
    "#         'Level': row.Level}\n",
    "#    # Save for each drug listed for an alteration\n",
    "#    drugs = row['Drugs(s)'].split(', ')\n",
    "#    for drug in drugs:\n",
    "#        oncokb[drug].append(v)"
   ]
  },
  {
   "cell_type": "markdown",
   "metadata": {},
   "source": [
    "## Functions defining binary subtype label"
   ]
  },
  {
   "cell_type": "code",
   "execution_count": 8,
   "metadata": {
    "ExecuteTime": {
     "end_time": "2018-06-05T03:00:22.837944Z",
     "start_time": "2018-06-05T03:00:22.710157Z"
    }
   },
   "outputs": [],
   "source": [
    "def get_drug_label(drug, min_level = 1, events=oncokb_events):\n",
    "    \"\"\"\n",
    "    \"\"\"\n",
    "    \n",
    "    events_for_drug = events.loc[(drug in events['Drugs(s)'])\n",
    "                                & (events['Level'] <= min_level)]\n",
    "    \n",
    "    \n",
    "    def get_events_dict(event_row):\n",
    "        set_of_samples = [x for x in list(events) if x[:5]==\"TCGA-\"]\n",
    "        sample_dict = dict([ (sample_name, None) for sample_name in set_of_samples ])\n",
    "        for sample in set_of_samples:\n",
    "            sample_dict[sample] = event_row[sample]\n",
    "    \n",
    "    list_of_event_dicts = list()\n",
    "    for index,row in events_for_drug.iterrows():\n",
    "        list_of_event_dicts.append(get_event_dict(row))\n",
    "        \n",
    "\n",
    "    drug_dict = union_attribute(list_of_event_dicts)\n",
    "        \n",
    "    return drug_dict\n",
    "\n",
    "\n",
    "def union_attribute(list_of_attribute_dicts):\n",
    "    # union of keys\n",
    "    keys = list()\n",
    "    for attribute in list_of_attribute_dicts:\n",
    "        keys.extend(attribute.keys())\n",
    "        keys = list(set(keys))\n",
    "\n",
    "    # Fill in 0s\n",
    "    union_dict = dict([ (sample_name, None) for sample_name in keys ])\n",
    "    for k in keys:\n",
    "        for attribute in list_of_attribute_dicts:\n",
    "            if k in attribute:\n",
    "                if attribute[k] == 0:\n",
    "                    union_dict[k] = 0\n",
    "                    \n",
    "    # Overwrite with NaN if not present in all dicts (not truly negative)\n",
    "    for k in keys:\n",
    "        for attribute in list_of_attribute_dicts:\n",
    "            if k in attribute:\n",
    "                if attribute[k] != attribute[k]: # checks for NaN\n",
    "                    union_dict[k] = None\n",
    "    \n",
    "    # Overwrite with 1s (build union)\n",
    "    for k in keys:\n",
    "        for attribute in list_of_attribute_dicts:\n",
    "            if k in attribute:\n",
    "                if attribute[k] == 1:\n",
    "                    union_dict[k] = 1\n",
    "               \n",
    "    return union_dict\n",
    "\n",
    "def intersect_attribute(list_of_attribute_dicts):\n",
    "    \"\"\"\n",
    "    \n",
    "    \"\"\"\n",
    "    # union of keys\n",
    "    keys = list()\n",
    "    for attribute in list_of_attribute_dicts:\n",
    "        keys.extend(attribute.keys())\n",
    "        keys = list(set(keys))\n",
    "    \n",
    "    intersect_dict = dict([ (sample_name, None) for sample_name in keys ])\n",
    "    \n",
    "    # Fill in with 1s\n",
    "    for k in keys:\n",
    "        for attribute in list_of_attribute_dicts:\n",
    "            if k in attribute:\n",
    "                if attribute[k] == 1:\n",
    "                    intersect_dict[k] = 1\n",
    "                    \n",
    "    # Overwrite with 0s (intersection)\n",
    "    for k in keys:\n",
    "        for attribute in list_of_attribute_dicts:\n",
    "            if k in attribute:\n",
    "                if attribute[k] == 0:\n",
    "                    intersect_dict[k] = 0\n",
    "                    \n",
    "    # Overwrite with NaNs (truly negative)\n",
    "    for k in keys:\n",
    "        for attribute in list_of_attribute_dicts:\n",
    "            if k in attribute:\n",
    "                if attribute[k] != attribute[k]: # checks for NaN\n",
    "                    intersect_dict[k] = None\n",
    "                    \n",
    "    return intersect_dict\n",
    "\n",
    "def reverse_attribute(attribute):\n",
    "    reverse_dict = dict([ (sample_name, None) for sample_name in attribute.keys() ])\n",
    "    for k in attribute.keys():\n",
    "        if attribute[k]==0:\n",
    "            reverse_dict[k] = 1\n",
    "        if attribute[k]==1:\n",
    "            reverse_dict[k] = 0\n",
    "    return reverse_dict\n",
    "    \n",
    "\n",
    "def how_many_positive_samples(attribute_dict):\n",
    "    return sum(1 for v in attribute_dict.values() if v==1)\n",
    "\n",
    "def how_many_negative_samples(attribute_dict):\n",
    "    return sum(1 for v in attribute_dict.values() if v==0)"
   ]
  },
  {
   "cell_type": "markdown",
   "metadata": {},
   "source": [
    "## Create drug labels"
   ]
  },
  {
   "cell_type": "code",
   "execution_count": 9,
   "metadata": {
    "ExecuteTime": {
     "end_time": "2018-06-05T03:02:57.934920Z",
     "start_time": "2018-06-05T03:02:57.929804Z"
    }
   },
   "outputs": [],
   "source": [
    "# create drug table\n",
    "\n",
    "# create empty columns for TCGA samples\n",
    "\n",
    "#print(oncokb_table.shape)\n",
    "#for sample in set_of_tcga_samples:\n",
    "#    oncokb_table[sample] = np.nan\n",
    "\n",
    "#print(oncokb_table.shape)\n",
    "#print(len(set_of_tcga_samples))\n",
    "\n"
   ]
  },
  {
   "cell_type": "code",
   "execution_count": 10,
   "metadata": {
    "ExecuteTime": {
     "end_time": "2018-06-05T03:03:00.158796Z",
     "start_time": "2018-06-05T03:03:00.155740Z"
    }
   },
   "outputs": [],
   "source": [
    "# fill the oncokb table with biomarker labels\n",
    "\n",
    "        "
   ]
  },
  {
   "cell_type": "code",
   "execution_count": null,
   "metadata": {
    "collapsed": true
   },
   "outputs": [],
   "source": [
    "# write drug table to file\n",
    "#drug_table.to_csv(\"./oncokbDrugs_TCGAsamples.txt\", sep='\\t', index=False, na_rep = \"NaN\")"
   ]
  },
  {
   "cell_type": "code",
   "execution_count": null,
   "metadata": {
    "collapsed": true
   },
   "outputs": [],
   "source": []
  }
 ],
 "metadata": {
  "kernelspec": {
   "display_name": "Python 3",
   "language": "python",
   "name": "python3"
  },
  "language_info": {
   "codemirror_mode": {
    "name": "ipython",
    "version": 3
   },
   "file_extension": ".py",
   "mimetype": "text/x-python",
   "name": "python",
   "nbconvert_exporter": "python",
   "pygments_lexer": "ipython3",
   "version": "3.6.1"
  },
  "toc": {
   "base_numbering": 1,
   "nav_menu": {},
   "number_sections": true,
   "sideBar": true,
   "skip_h1_title": false,
   "title_cell": "Table of Contents",
   "title_sidebar": "Contents",
   "toc_cell": false,
   "toc_position": {
    "height": "calc(100% - 180px)",
    "left": "10px",
    "top": "150px",
    "width": "184px"
   },
   "toc_section_display": true,
   "toc_window_display": true
  }
 },
 "nbformat": 4,
 "nbformat_minor": 2
}
